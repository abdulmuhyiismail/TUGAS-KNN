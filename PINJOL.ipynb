from sklearn.neighbors import KNeighborsClassifier
# data
X_train = [[40,5,60], [50,8,40], [50,7,30], [70,4,60], [80,4,80], [60,6,60]]
y_train = ['Tolak','Terima','Tolak','Terima','Terima','Terima']

# Inisialisasi model knn dengan jumlah tentangg/k = 3
knn = KNeighborsClassifier(n_neighbors=5)

# Melatih Model Dengan Data Traning
knn.fit(X_train, y_train)

# Data Test
X_test = [[50,3,40]]
y_test = ['Tolak'] # lebel yg seharusnya di dapatkan dalam model prediksi

# Melakukan Prediksi dengan model yg sudah di latih
pred = knn.predict(X_test)

# melakukan Evaluasi Model
accuracy = knn.score(X_test, y_test)
print("Akurasi", accuracy)

print("Menampilkan Hasil Prediksi")
for i, pred in enumerate(pred):
  print(f"Data test {i+1}: Prediction {pred}")
